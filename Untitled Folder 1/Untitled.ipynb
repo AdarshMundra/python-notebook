{
 "cells": [
  {
   "cell_type": "code",
   "execution_count": 2,
   "metadata": {},
   "outputs": [
    {
     "name": "stdout",
     "output_type": "stream",
     "text": [
      "Enter a number to find fiboonaci25\n",
      "fibonacci series\n",
      "0 , 1, 1, 2, 3, 5, 8, 13, 21, 34, 55, 89, 144, 233, 377, 610, 987, 1597, 2584, 4181, 6765, 10946, 17711, 28657, 46368, "
     ]
    }
   ],
   "source": [
    "'''\n",
    "Enter a number to find the fibonnaci u to the number\n",
    "'''\n",
    "\n",
    "TOTAL = int(input(\"Enter a number to find fiboonaci\"))\n",
    "FIRST = 0 #first number\n",
    "\n",
    "SECOND = 1 #Second number\n",
    "'''\n",
    "The generated series\n",
    "'''\n",
    "print(\"fibonacci series\")\n",
    "print(FIRST, \",\", SECOND, end=\", \")\n",
    "for i in range(2, TOTAL):\n",
    "    Next = FIRST + SECOND #the next number\n",
    "    print(Next, end=\", \")\n",
    "    FIRST = SECOND\n",
    "    SECOND = Next\n"
   ]
  },
  {
   "cell_type": "code",
   "execution_count": 25,
   "metadata": {},
   "outputs": [],
   "source": [
    "def cal(am,i,op):\n",
    "    if op == 'm':\n",
    "        pay=((((am*i)/100)+am)/12)\n",
    "        print(\"The amount will be pay on mountly bassis\")\n",
    "    elif op == 'w':\n",
    "        pay=((((am*i)/100)+am)/52)\n",
    "        print(\"The amount will be pay on weekly bassis\")\n",
    "    elif op == 'd':\n",
    "        pay=((((am*i)/100)+am)/365)\n",
    "        print(\"The amount will be pay on daily bassis\")\n",
    "    \n",
    "    return pay"
   ]
  },
  {
   "cell_type": "code",
   "execution_count": 26,
   "metadata": {},
   "outputs": [
    {
     "name": "stdout",
     "output_type": "stream",
     "text": [
      "The amount will be pay on daily bassis\n"
     ]
    },
    {
     "data": {
      "text/plain": [
       "36.32876712328767"
      ]
     },
     "execution_count": 26,
     "metadata": {},
     "output_type": "execute_result"
    }
   ],
   "source": [
    "cal(13000,2,'d')"
   ]
  },
  {
   "cell_type": "code",
   "execution_count": 49,
   "metadata": {},
   "outputs": [
    {
     "name": "stdout",
     "output_type": "stream",
     "text": [
      "Enter first number5\n",
      "Enter second number9\n",
      "Enter symbol-\n",
      "The Difference is\n",
      "-4\n"
     ]
    }
   ],
   "source": [
    "FIRST = int(input(\"Enter first number\"))\n",
    "SECOND = int(input(\"Enter second number\"))\n",
    "OP = input(\"Enter symbol\")\n",
    "if OP == '+':\n",
    "    TOTAL = FIRST + SECOND\n",
    "    print(\"The Sum is\")\n",
    "elif OP == '-':\n",
    "    TOTAL = FIRST - SECOND\n",
    "    print(\"The Difference is\")\n",
    "elif OP == '*':\n",
    "    TOTAL = FIRST * SECOND\n",
    "    print(\"The Multiplication is\")\n",
    "elif OP == '/' :\n",
    "    try:\n",
    "        TOTAL = FIRST / SECOND\n",
    "        print(\"The Division is\")\n",
    "    except:\n",
    "        print(\"The denominator is zero\")\n",
    "print(TOTAL)\n"
   ]
  },
  {
   "cell_type": "code",
   "execution_count": 43,
   "metadata": {},
   "outputs": [
    {
     "name": "stdout",
     "output_type": "stream",
     "text": [
      "The Sum is\n"
     ]
    },
    {
     "data": {
      "text/plain": [
       "11"
      ]
     },
     "execution_count": 43,
     "metadata": {},
     "output_type": "execute_result"
    }
   ],
   "source": [
    "calcu(5,6,'+')"
   ]
  },
  {
   "cell_type": "code",
   "execution_count": 53,
   "metadata": {},
   "outputs": [
    {
     "name": "stdout",
     "output_type": "stream",
     "text": [
      "1 0 0 0 \n",
      "\n",
      "1 0 0 1 0 \n",
      "\n",
      "1 1 1 \n",
      "\n"
     ]
    }
   ],
   "source": [
    "def decimalToBinary(n):  \n",
    "  \n",
    "    if(n > 1):\n",
    "        decimalToBinary(n//2)  \n",
    "    print(n%2, end=' ') \n",
    "# Driver code  \n",
    "if __name__ == '__main__':  \n",
    "    decimalToBinary(8)  \n",
    "    print(\"\\n\") \n",
    "    decimalToBinary(18)  \n",
    "    print(\"\\n\") \n",
    "    decimalToBinary(7)  \n",
    "    print(\"\\n\") "
   ]
  },
  {
   "cell_type": "code",
   "execution_count": 59,
   "metadata": {},
   "outputs": [],
   "source": [
    "def fib(n):\n",
    "    r=[]\n",
    "    a=0\n",
    "    b=1\n",
    "    print(a,\",\",b,end=' ,')\n",
    "    for i in range(2,n):\n",
    "        c=a+b\n",
    "        r.append(c)\n",
    "        print(c,end=' ,')\n",
    "        a=b\n",
    "        b=c\n",
    "    return r"
   ]
  },
  {
   "cell_type": "code",
   "execution_count": 61,
   "metadata": {},
   "outputs": [
    {
     "name": "stdout",
     "output_type": "stream",
     "text": [
      "0 , 1 ,1 ,2 ,3 ,5 ,8 ,13 ,21 ,34 ,"
     ]
    },
    {
     "data": {
      "text/plain": [
       "[1, 2, 3, 5, 8, 13, 21, 34]"
      ]
     },
     "execution_count": 61,
     "metadata": {},
     "output_type": "execute_result"
    }
   ],
   "source": [
    "fib(10)"
   ]
  },
  {
   "cell_type": "code",
   "execution_count": null,
   "metadata": {},
   "outputs": [],
   "source": []
  }
 ],
 "metadata": {
  "kernelspec": {
   "display_name": "Python 3",
   "language": "python",
   "name": "python3"
  },
  "language_info": {
   "codemirror_mode": {
    "name": "ipython",
    "version": 3
   },
   "file_extension": ".py",
   "mimetype": "text/x-python",
   "name": "python",
   "nbconvert_exporter": "python",
   "pygments_lexer": "ipython3",
   "version": "3.7.1"
  }
 },
 "nbformat": 4,
 "nbformat_minor": 2
}
